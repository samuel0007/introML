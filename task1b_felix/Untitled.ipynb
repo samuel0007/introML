{
 "cells": [
  {
   "cell_type": "code",
   "execution_count": 36,
   "id": "513c728a",
   "metadata": {},
   "outputs": [
    {
     "data": {
      "text/html": [
       "<div>\n",
       "<style scoped>\n",
       "    .dataframe tbody tr th:only-of-type {\n",
       "        vertical-align: middle;\n",
       "    }\n",
       "\n",
       "    .dataframe tbody tr th {\n",
       "        vertical-align: top;\n",
       "    }\n",
       "\n",
       "    .dataframe thead th {\n",
       "        text-align: right;\n",
       "    }\n",
       "</style>\n",
       "<table border=\"1\" class=\"dataframe\">\n",
       "  <thead>\n",
       "    <tr style=\"text-align: right;\">\n",
       "      <th></th>\n",
       "      <th>13.145520802298</th>\n",
       "    </tr>\n",
       "  </thead>\n",
       "  <tbody>\n",
       "    <tr>\n",
       "      <th>0</th>\n",
       "      <td>9.601847</td>\n",
       "    </tr>\n",
       "    <tr>\n",
       "      <th>1</th>\n",
       "      <td>6.087286</td>\n",
       "    </tr>\n",
       "    <tr>\n",
       "      <th>2</th>\n",
       "      <td>14.511194</td>\n",
       "    </tr>\n",
       "    <tr>\n",
       "      <th>3</th>\n",
       "      <td>22.066090</td>\n",
       "    </tr>\n",
       "  </tbody>\n",
       "</table>\n",
       "</div>"
      ],
      "text/plain": [
       "   13.145520802298\n",
       "0         9.601847\n",
       "1         6.087286\n",
       "2        14.511194\n",
       "3        22.066090"
      ]
     },
     "execution_count": 36,
     "metadata": {},
     "output_type": "execute_result"
    }
   ],
   "source": [
    "import pandas as pd\n",
    "import numpy as np\n",
    "from sklearn.linear_model import Ridge\n",
    "from sklearn.model_selection import cross_val_score\n",
    "d_train = pd.read_csv(\"Data/train.csv\")\n",
    "y = np.array(d_train[\"y\"])\n",
    "\n",
    "d_sample = pd.read_csv(\"Data/sample.csv\")\n",
    "d_sample"
   ]
  },
  {
   "cell_type": "code",
   "execution_count": 33,
   "id": "04eac721",
   "metadata": {},
   "outputs": [
    {
     "data": {
      "text/plain": [
       "array([[6.72400e-02, 0.00000e+00, 3.24000e+00, ..., 1.69000e+01,\n",
       "        3.75210e+02, 7.34000e+00],\n",
       "       [9.23230e+00, 0.00000e+00, 1.81000e+01, ..., 2.02000e+01,\n",
       "        3.66150e+02, 9.53000e+00],\n",
       "       [1.14250e-01, 0.00000e+00, 1.38900e+01, ..., 1.64000e+01,\n",
       "        3.93740e+02, 1.05000e+01],\n",
       "       ...,\n",
       "       [6.90500e-02, 0.00000e+00, 2.18000e+00, ..., 1.87000e+01,\n",
       "        3.96900e+02, 5.33000e+00],\n",
       "       [7.36711e+00, 0.00000e+00, 1.81000e+01, ..., 2.02000e+01,\n",
       "        9.67300e+01, 2.15200e+01],\n",
       "       [1.68118e+01, 0.00000e+00, 1.81000e+01, ..., 2.02000e+01,\n",
       "        3.96900e+02, 3.08100e+01]])"
      ]
     },
     "execution_count": 33,
     "metadata": {},
     "output_type": "execute_result"
    }
   ],
   "source": [
    "X_train = np.array(d_train[\"x1\"])\n",
    "for i in range(1,13):\n",
    "    X_train = np.column_stack((X_train , np.array(d_train[\"x\" + str(i+1)])))"
   ]
  },
  {
   "cell_type": "code",
   "execution_count": 45,
   "id": "dc66e092",
   "metadata": {},
   "outputs": [
    {
     "data": {
      "text/html": [
       "<div>\n",
       "<style scoped>\n",
       "    .dataframe tbody tr th:only-of-type {\n",
       "        vertical-align: middle;\n",
       "    }\n",
       "\n",
       "    .dataframe tbody tr th {\n",
       "        vertical-align: top;\n",
       "    }\n",
       "\n",
       "    .dataframe thead th {\n",
       "        text-align: right;\n",
       "    }\n",
       "</style>\n",
       "<table border=\"1\" class=\"dataframe\">\n",
       "  <thead>\n",
       "    <tr style=\"text-align: right;\">\n",
       "      <th></th>\n",
       "      <th>0</th>\n",
       "    </tr>\n",
       "  </thead>\n",
       "  <tbody>\n",
       "    <tr>\n",
       "      <th>0</th>\n",
       "      <td>5.501809</td>\n",
       "    </tr>\n",
       "    <tr>\n",
       "      <th>1</th>\n",
       "      <td>5.499839</td>\n",
       "    </tr>\n",
       "    <tr>\n",
       "      <th>2</th>\n",
       "      <td>5.483631</td>\n",
       "    </tr>\n",
       "    <tr>\n",
       "      <th>3</th>\n",
       "      <td>5.636642</td>\n",
       "    </tr>\n",
       "    <tr>\n",
       "      <th>4</th>\n",
       "      <td>5.721234</td>\n",
       "    </tr>\n",
       "  </tbody>\n",
       "</table>\n",
       "</div>"
      ],
      "text/plain": [
       "          0\n",
       "0  5.501809\n",
       "1  5.499839\n",
       "2  5.483631\n",
       "3  5.636642\n",
       "4  5.721234"
      ]
     },
     "execution_count": 45,
     "metadata": {},
     "output_type": "execute_result"
    }
   ],
   "source": [
    "values = []\n",
    "for i in [0.1,1,10,100,200]:\n",
    "    ridge_reg = Ridge(alpha = i, solver=\"cholesky\")\n",
    "    ridge_reg.fit(X_train,y)\n",
    "    lin_scores = cross_val_score(ridge_reg ,X_train ,y ,scoring = \"neg_mean_squared_error\", cv = 10)\n",
    "    values.append(np.sqrt(-lin_scores).mean())\n",
    "    \n",
    "final_val = pd.DataFrame(values)\n",
    "\n",
    "final_val.to_csv(\"./submission_felix.csv\")\n",
    "final_val"
   ]
  },
  {
   "cell_type": "code",
   "execution_count": null,
   "id": "c36b65d1",
   "metadata": {},
   "outputs": [],
   "source": []
  }
 ],
 "metadata": {
  "kernelspec": {
   "display_name": "Python 3 (ipykernel)",
   "language": "python",
   "name": "python3"
  },
  "language_info": {
   "codemirror_mode": {
    "name": "ipython",
    "version": 3
   },
   "file_extension": ".py",
   "mimetype": "text/x-python",
   "name": "python",
   "nbconvert_exporter": "python",
   "pygments_lexer": "ipython3",
   "version": "3.9.7"
  }
 },
 "nbformat": 4,
 "nbformat_minor": 5
}
