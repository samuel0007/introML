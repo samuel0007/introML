{
 "cells": [
  {
   "cell_type": "code",
   "execution_count": 1,
   "metadata": {},
   "outputs": [
    {
     "data": {
      "text/html": [
       "<div>\n",
       "<style scoped>\n",
       "    .dataframe tbody tr th:only-of-type {\n",
       "        vertical-align: middle;\n",
       "    }\n",
       "\n",
       "    .dataframe tbody tr th {\n",
       "        vertical-align: top;\n",
       "    }\n",
       "\n",
       "    .dataframe thead th {\n",
       "        text-align: right;\n",
       "    }\n",
       "</style>\n",
       "<table border=\"1\" class=\"dataframe\">\n",
       "  <thead>\n",
       "    <tr style=\"text-align: right;\">\n",
       "      <th></th>\n",
       "      <th>y</th>\n",
       "      <th>x1</th>\n",
       "      <th>x2</th>\n",
       "      <th>x3</th>\n",
       "      <th>x4</th>\n",
       "      <th>x5</th>\n",
       "    </tr>\n",
       "    <tr>\n",
       "      <th>Id</th>\n",
       "      <th></th>\n",
       "      <th></th>\n",
       "      <th></th>\n",
       "      <th></th>\n",
       "      <th></th>\n",
       "      <th></th>\n",
       "    </tr>\n",
       "  </thead>\n",
       "  <tbody>\n",
       "    <tr>\n",
       "      <th>0</th>\n",
       "      <td>-6.822679</td>\n",
       "      <td>0.02</td>\n",
       "      <td>0.05</td>\n",
       "      <td>-0.09</td>\n",
       "      <td>-0.43</td>\n",
       "      <td>-0.08</td>\n",
       "    </tr>\n",
       "    <tr>\n",
       "      <th>1</th>\n",
       "      <td>-6.326290</td>\n",
       "      <td>-0.13</td>\n",
       "      <td>0.11</td>\n",
       "      <td>-0.08</td>\n",
       "      <td>-0.29</td>\n",
       "      <td>-0.03</td>\n",
       "    </tr>\n",
       "    <tr>\n",
       "      <th>2</th>\n",
       "      <td>-9.302728</td>\n",
       "      <td>0.08</td>\n",
       "      <td>0.06</td>\n",
       "      <td>-0.07</td>\n",
       "      <td>-0.41</td>\n",
       "      <td>-0.03</td>\n",
       "    </tr>\n",
       "    <tr>\n",
       "      <th>3</th>\n",
       "      <td>-7.371893</td>\n",
       "      <td>0.02</td>\n",
       "      <td>-0.12</td>\n",
       "      <td>0.01</td>\n",
       "      <td>-0.43</td>\n",
       "      <td>-0.02</td>\n",
       "    </tr>\n",
       "    <tr>\n",
       "      <th>4</th>\n",
       "      <td>-6.027647</td>\n",
       "      <td>-0.14</td>\n",
       "      <td>-0.12</td>\n",
       "      <td>-0.08</td>\n",
       "      <td>-0.02</td>\n",
       "      <td>-0.08</td>\n",
       "    </tr>\n",
       "  </tbody>\n",
       "</table>\n",
       "</div>"
      ],
      "text/plain": [
       "           y    x1    x2    x3    x4    x5\n",
       "Id                                        \n",
       "0  -6.822679  0.02  0.05 -0.09 -0.43 -0.08\n",
       "1  -6.326290 -0.13  0.11 -0.08 -0.29 -0.03\n",
       "2  -9.302728  0.08  0.06 -0.07 -0.41 -0.03\n",
       "3  -7.371893  0.02 -0.12  0.01 -0.43 -0.02\n",
       "4  -6.027647 -0.14 -0.12 -0.08 -0.02 -0.08"
      ]
     },
     "execution_count": 1,
     "metadata": {},
     "output_type": "execute_result"
    }
   ],
   "source": [
    "import pandas as pd\n",
    "import numpy as np\n",
    "\n",
    "df = pd.read_csv(\"train.csv\", index_col=0)\n",
    "df_target = df.iloc[:, 0]\n",
    "df_data = df.iloc[:, 1:]\n",
    "df.head()"
   ]
  },
  {
   "cell_type": "code",
   "execution_count": 13,
   "metadata": {},
   "outputs": [
    {
     "data": {
      "text/plain": [
       "GridSearchCV(cv=5, estimator=Ridge(),\n",
       "             param_grid={'alpha': array([3.5       , 3.50753769, 3.51507538, 3.52261307, 3.53015075,\n",
       "       3.53768844, 3.54522613, 3.55276382, 3.56030151, 3.5678392 ,\n",
       "       3.57537688, 3.58291457, 3.59045226, 3.59798995, 3.60552764,\n",
       "       3.61306533, 3.62060302, 3.6281407 , 3.63567839, 3.64321608,\n",
       "       3.65075377, 3.65829146, 3.66582915, 3.67336683, 3.68090452,\n",
       "       3.68844221, 3.6959799 ,...\n",
       "       4.78140704, 4.78894472, 4.79648241, 4.8040201 , 4.81155779,\n",
       "       4.81909548, 4.82663317, 4.83417085, 4.84170854, 4.84924623,\n",
       "       4.85678392, 4.86432161, 4.8718593 , 4.87939698, 4.88693467,\n",
       "       4.89447236, 4.90201005, 4.90954774, 4.91708543, 4.92462312,\n",
       "       4.9321608 , 4.93969849, 4.94723618, 4.95477387, 4.96231156,\n",
       "       4.96984925, 4.97738693, 4.98492462, 4.99246231, 5.        ])},\n",
       "             scoring='neg_root_mean_squared_error')"
      ]
     },
     "execution_count": 13,
     "metadata": {},
     "output_type": "execute_result"
    }
   ],
   "source": [
    "from sklearn.linear_model import LinearRegression\n",
    "from sklearn.preprocessing import FunctionTransformer\n",
    "from sklearn.pipeline import FeatureUnion\n",
    "from sklearn.linear_model import Ridge\n",
    "from sklearn.linear_model import Lasso\n",
    "from sklearn.linear_model import ElasticNet\n",
    "from sklearn.model_selection import GridSearchCV\n",
    "\n",
    "# transform data\n",
    "linear = (\"linear\", FunctionTransformer(lambda x: x))\n",
    "quadratic = (\"quadratic\", FunctionTransformer(np.square))\n",
    "exponential = (\"exponential\", FunctionTransformer(np.exp))\n",
    "cosine = (\"cosine\", FunctionTransformer(np.cos))\n",
    "\n",
    "features_transformers = [linear, quadratic, exponential, cosine]\n",
    "\n",
    "transformed_features = FeatureUnion(\n",
    "    [linear, quadratic, exponential, cosine]\n",
    ").transform(df_data)\n",
    "# model = LinearRegression()\n",
    "param_grid = {\"alpha\": np.linspace(3.5, 5, 200)}\n",
    "model = GridSearchCV(\n",
    "    Ridge(), param_grid, scoring=\"neg_root_mean_squared_error\", cv=5\n",
    ")\n",
    "# param_grid = {'alpha': np.linspace(1e-4, 1e-1, 150)}\n",
    "# model = GridSearchCV(Lasso(), param_grid, scoring='neg_root_mean_squared_error', cv=10)\n",
    "# param_grid = {'alpha': np.linspace(10e-3, 10, 10), 'l1_ratio': np.linspace(0, 1, 10)}\n",
    "# model = GridSearchCV(ElasticNet(max_iter=10e5,random_state=0), param_grid, scoring='neg_root_mean_squared_error', cv=10)\n",
    "model.fit(transformed_features, df_target)"
   ]
  },
  {
   "cell_type": "code",
   "execution_count": 14,
   "metadata": {},
   "outputs": [
    {
     "data": {
      "text/plain": [
       "[<matplotlib.lines.Line2D at 0x7f6f3ca3f1c0>]"
      ]
     },
     "execution_count": 14,
     "metadata": {},
     "output_type": "execute_result"
    },
    {
     "data": {
      "image/png": "[encoded data removed]",
      "text/plain": [
       "<Figure size 432x288 with 1 Axes>"
      ]
     },
     "metadata": {
      "needs_background": "light"
     },
     "output_type": "display_data"
    }
   ],
   "source": [
    "import matplotlib.pyplot as plt\n",
    "\n",
    "plt.title(\"Ridge Alpha VS Validation Error\")\n",
    "plt.xlabel(\"Alpha\")\n",
    "plt.ylabel(\"Validation Error\")\n",
    "plt.plot(np.linspace(3.5, 5, 200), -model.cv_results_[\"mean_test_score\"])"
   ]
  },
  {
   "cell_type": "code",
   "execution_count": 59,
   "metadata": {},
   "outputs": [],
   "source": [
    "pd.DataFrame(\n",
    "    np.concatenate(\n",
    "        (model.best_estimator_.coef_, [model.best_estimator_.intercept_])\n",
    "    )\n",
    ").to_csv(\"solution.csv\", index=False, header=False)"
   ]
  },
  {
   "cell_type": "code",
   "execution_count": null,
   "metadata": {},
   "outputs": [],
   "source": []
  }
 ],
 "metadata": {
  "interpreter": {
   "hash": "ac193c5c86ca193dfe619aecb588a0a84d2c8c497154f599ecc909bfff93678f"
  },
  "kernelspec": {
   "display_name": "Python 3.10.0 ('ml')",
   "language": "python",
   "name": "python3"
  },
  "language_info": {
   "codemirror_mode": {
    "name": "ipython",
    "version": 3
   },
   "file_extension": ".py",
   "mimetype": "text/x-python",
   "name": "python",
   "nbconvert_exporter": "python",
   "pygments_lexer": "ipython3",
   "version": "3.10.0"
  },
  "orig_nbformat": 4
 },
 "nbformat": 4,
 "nbformat_minor": 2
}
